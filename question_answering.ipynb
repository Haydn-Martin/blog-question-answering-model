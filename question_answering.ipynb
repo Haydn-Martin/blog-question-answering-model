{
 "cells": [
  {
   "cell_type": "markdown",
   "id": "12822bea-c0db-4ca6-ae1c-555f0774af68",
   "metadata": {},
   "source": [
    "### Imports and pre-recs"
   ]
  },
  {
   "cell_type": "code",
   "execution_count": 84,
   "id": "99796e86-2da2-4e40-847b-8936e7945e88",
   "metadata": {},
   "outputs": [],
   "source": [
    "from haystack.nodes import AnswerParser, PromptNode, PromptTemplate, TransformersReader, BM25Retriever\n",
    "from haystack.schema import Document\n",
    "from haystack.document_stores import InMemoryDocumentStore\n",
    "from haystack.utils import convert_files_to_docs\n",
    "from haystack import Pipeline"
   ]
  },
  {
   "cell_type": "markdown",
   "id": "c8e62bd7-d070-4563-aadf-0c2a237da497",
   "metadata": {},
   "source": [
    "### Test document with basic config"
   ]
  },
  {
   "cell_type": "markdown",
   "id": "6fe6c14a-9124-4357-b609-363f04abcc06",
   "metadata": {},
   "source": [
    "Testing basic [Haystack](https://haystack.deepset.ai/) default config."
   ]
  },
  {
   "cell_type": "code",
   "execution_count": 26,
   "id": "9bb345d6-50a3-4b1f-b4da-f882f21aa720",
   "metadata": {},
   "outputs": [
    {
     "name": "stdout",
     "output_type": "stream",
     "text": [
      "Every six weeks the members of THE Bank of England’s Monetary Policy Committee commute – I’d imagine from homes in Surrey (train to Waterloo then Waterloo & City Line) or Hampshire (train to Waterloo then Waterloo & City Line) or Sussex (train to Victoria then District/Circle Line to Mansion House and a short walk) – to Bank, where the BoE is situated, right next to the station. The members meet – every six weeks – to vote. To vote on what rate will be set as the Bank Rate.\n"
     ]
    }
   ],
   "source": [
    "# Read test file content\n",
    "test_file = open(\"test_article.txt\", \"r\", encoding=\"utf8\")\n",
    "test_content = test_file.read()\n",
    "print(test_content)\n",
    "test_file.close()"
   ]
  },
  {
   "cell_type": "code",
   "execution_count": 43,
   "id": "c25f433f-e15d-4b3f-ba38-e46c3edc5e51",
   "metadata": {},
   "outputs": [],
   "source": [
    "# Create test Document\n",
    "test_doc = [Document(test_content)]"
   ]
  },
  {
   "cell_type": "code",
   "execution_count": null,
   "id": "6c6daa8b-e0bc-41cf-9784-6415b51c7300",
   "metadata": {},
   "outputs": [],
   "source": [
    "# Setting up test\n",
    "prompt_node = PromptNode()\n",
    "question_answering_per_doc = PromptTemplate(\"deepset/question-answering-per-document\", output_parser=AnswerParser())"
   ]
  },
  {
   "cell_type": "code",
   "execution_count": 42,
   "id": "57c0fd68-75a6-4bbf-8f2b-89a7816bfcab",
   "metadata": {},
   "outputs": [],
   "source": [
    "# Generating answer from prompt\n",
    "result = prompt_node.prompt(\n",
    "    query=\"How often does the Bank of England’s Monetary Policy Committee meet?\",\n",
    "    documents=test_doc,\n",
    "    prompt_template=question_answering_per_doc\n",
    ")"
   ]
  },
  {
   "cell_type": "code",
   "execution_count": 34,
   "id": "fad17a61-f5cc-4fc2-b360-caf838f680a1",
   "metadata": {},
   "outputs": [
    {
     "name": "stdout",
     "output_type": "stream",
     "text": [
      "<Answer: answer='every six weeks', score=None, context=None>\n"
     ]
    }
   ],
   "source": [
    "# Printing result\n",
    "print(result[0])"
   ]
  },
  {
   "cell_type": "markdown",
   "id": "9380981f-2e08-4f57-aa90-98a2db7184d2",
   "metadata": {},
   "source": [
    "Fuck me that took a long time."
   ]
  },
  {
   "cell_type": "markdown",
   "id": "f01320a2-bab8-46fa-94ef-236d93a93f2f",
   "metadata": {},
   "source": [
    "### Adding custom model"
   ]
  },
  {
   "cell_type": "markdown",
   "id": "8d359ed2-e29c-4c43-8748-0d43a920abbd",
   "metadata": {},
   "source": [
    "Try with [tinyroberta-squad2](https://huggingface.co/deepset/tinyroberta-squad2) QA model to see what we get."
   ]
  },
  {
   "cell_type": "code",
   "execution_count": 39,
   "id": "47cfba98-1b78-40ee-80f8-d21024bd5fd1",
   "metadata": {},
   "outputs": [
    {
     "data": {
      "application/vnd.jupyter.widget-view+json": {
       "model_id": "29fd8fbad5df4624bc8901bc2569f146",
       "version_major": 2,
       "version_minor": 0
      },
      "text/plain": [
       "config.json:   0%|          | 0.00/835 [00:00<?, ?B/s]"
      ]
     },
     "metadata": {},
     "output_type": "display_data"
    },
    {
     "data": {
      "application/vnd.jupyter.widget-view+json": {
       "model_id": "0d9c6ffe21a04692b216875fd2997d36",
       "version_major": 2,
       "version_minor": 0
      },
      "text/plain": [
       "model.safetensors:   0%|          | 0.00/326M [00:00<?, ?B/s]"
      ]
     },
     "metadata": {},
     "output_type": "display_data"
    },
    {
     "data": {
      "application/vnd.jupyter.widget-view+json": {
       "model_id": "7e6752f39b2c4332a2975ae10889a99a",
       "version_major": 2,
       "version_minor": 0
      },
      "text/plain": [
       "tokenizer_config.json:   0%|          | 0.00/383 [00:00<?, ?B/s]"
      ]
     },
     "metadata": {},
     "output_type": "display_data"
    },
    {
     "data": {
      "application/vnd.jupyter.widget-view+json": {
       "model_id": "84ff96060bab4c52aa52b63a0c01a7df",
       "version_major": 2,
       "version_minor": 0
      },
      "text/plain": [
       "vocab.json:   0%|          | 0.00/798k [00:00<?, ?B/s]"
      ]
     },
     "metadata": {},
     "output_type": "display_data"
    },
    {
     "data": {
      "application/vnd.jupyter.widget-view+json": {
       "model_id": "81c131c54b3d4b7986e2e7b504f59c7d",
       "version_major": 2,
       "version_minor": 0
      },
      "text/plain": [
       "merges.txt:   0%|          | 0.00/456k [00:00<?, ?B/s]"
      ]
     },
     "metadata": {},
     "output_type": "display_data"
    },
    {
     "data": {
      "application/vnd.jupyter.widget-view+json": {
       "model_id": "c4f551f3d2b34348894058d82904c246",
       "version_major": 2,
       "version_minor": 0
      },
      "text/plain": [
       "tokenizer.json:   0%|          | 0.00/1.36M [00:00<?, ?B/s]"
      ]
     },
     "metadata": {},
     "output_type": "display_data"
    },
    {
     "data": {
      "application/vnd.jupyter.widget-view+json": {
       "model_id": "c43043df9cda43ff8e8ba828cdef998f",
       "version_major": 2,
       "version_minor": 0
      },
      "text/plain": [
       "special_tokens_map.json:   0%|          | 0.00/239 [00:00<?, ?B/s]"
      ]
     },
     "metadata": {},
     "output_type": "display_data"
    }
   ],
   "source": [
    "HF_MODEL_NAME = 'deepset/tinyroberta-squad2' \n",
    "\n",
    "reader = TransformersReader(\n",
    "    model_name_or_path=HF_MODEL_NAME,\n",
    "    tokenizer=HF_MODEL_NAME,\n",
    "    use_gpu=-1\n",
    ")"
   ]
  },
  {
   "cell_type": "code",
   "execution_count": 57,
   "id": "35c25f36-888e-4d4f-afe3-81a6f201dbf8",
   "metadata": {},
   "outputs": [],
   "source": [
    "result = reader.predict(\n",
    "    query=\"How often does the Bank of England’s Monetary Policy Committee meet?\",\n",
    "    documents=test_doc,\n",
    "    top_k=10\n",
    ")"
   ]
  },
  {
   "cell_type": "code",
   "execution_count": 58,
   "id": "6daea51e-5cf4-494b-88ec-17aef7e17491",
   "metadata": {},
   "outputs": [
    {
     "name": "stdout",
     "output_type": "stream",
     "text": [
      "<Answer: answer='Every six weeks', score=0.7004600167274475, context='Every six weeks the members of THE Bank of England...'>\n"
     ]
    }
   ],
   "source": [
    "# Printing result\n",
    "print(result['answers'][0])"
   ]
  },
  {
   "cell_type": "markdown",
   "id": "61a83177-a9b2-45bd-a145-474ec510848c",
   "metadata": {},
   "source": [
    "### Multiple documents"
   ]
  },
  {
   "cell_type": "code",
   "execution_count": 61,
   "id": "b82d3e6f-240f-4e06-8e55-228690ee41d1",
   "metadata": {},
   "outputs": [],
   "source": [
    "# Change to docuemnt store template\n",
    "question_anwering_with_scores = PromptTemplate(\"deepset/question-answering-with-document-scores\")"
   ]
  },
  {
   "cell_type": "code",
   "execution_count": 62,
   "id": "ce9c53f2-5324-4aee-a646-521ba775a87d",
   "metadata": {},
   "outputs": [],
   "source": [
    "# Document store from memory\n",
    "document_store = InMemoryDocumentStore(use_bm25=True)"
   ]
  },
  {
   "cell_type": "code",
   "execution_count": 69,
   "id": "f7b63cc2-c2d4-44e8-be5c-1ff8f9b5fe71",
   "metadata": {},
   "outputs": [
    {
     "name": "stderr",
     "output_type": "stream",
     "text": [
      "Updating BM25 representation...: 100%|████████████████████████████████████████████████████████████████████████████████████| 2/2 [00:00<?, ? docs/s]\n"
     ]
    }
   ],
   "source": [
    "# Load docs into doc store\n",
    "docs = convert_files_to_docs('ArticleStore')\n",
    "document_store.write_documents(docs)"
   ]
  },
  {
   "cell_type": "code",
   "execution_count": 76,
   "id": "4470b449-e277-4552-8154-e7cf33994cee",
   "metadata": {},
   "outputs": [
    {
     "name": "stdout",
     "output_type": "stream",
     "text": [
      "<Answer: answer='1694', score=0.9720327854156494, context='The BoE was formed in 1694 to help finance the war...'>\n"
     ]
    }
   ],
   "source": [
    "# Test documents loaded\n",
    "result = reader.predict(\n",
    "    query=\"When was the BoE formed?\",\n",
    "    documents=document_store,\n",
    "    top_k=10\n",
    ")\n",
    "print(result['answers'][0])"
   ]
  },
  {
   "cell_type": "markdown",
   "id": "910c30f3-ec9f-4fef-ac24-1eda3d4e4e6a",
   "metadata": {},
   "source": [
    "### Simple pipeline"
   ]
  },
  {
   "cell_type": "code",
   "execution_count": 82,
   "id": "dbdeeb47-49b4-42a2-ad32-8d77c098face",
   "metadata": {},
   "outputs": [],
   "source": [
    "# Create retriever and prompt_node\n",
    "retriever = BM25Retriever(document_store)\n",
    "reader = TransformersReader(\n",
    "    model_name_or_path=HF_MODEL_NAME,\n",
    "    tokenizer=HF_MODEL_NAME,\n",
    "    use_gpu=-1\n",
    ")"
   ]
  },
  {
   "cell_type": "code",
   "execution_count": 86,
   "id": "246ab334-0a1a-4842-89e4-7350ab46d11f",
   "metadata": {},
   "outputs": [],
   "source": [
    "# Create basic pipeline\n",
    "p = Pipeline()\n",
    "p.add_node(component=retriever, name=\"Retriever\", inputs=[\"Query\"])\n",
    "p.add_node(component=reader, name=\"Reader\", inputs=[\"Retriever\"])"
   ]
  },
  {
   "cell_type": "code",
   "execution_count": 87,
   "id": "1b7db20d-9aab-4b8a-8b16-434b5e6923c5",
   "metadata": {},
   "outputs": [],
   "source": [
    "# Test the pipeline\n",
    "result = p.run(query=\"When was the BoE formed?\")"
   ]
  },
  {
   "cell_type": "code",
   "execution_count": 91,
   "id": "ebc87df6-4a1d-461c-908c-fa851b070673",
   "metadata": {},
   "outputs": [
    {
     "name": "stdout",
     "output_type": "stream",
     "text": [
      "<Answer: answer='1694', score=0.9720327854156494, context='The BoE was formed in 1694 to help finance the war...'>\n"
     ]
    }
   ],
   "source": [
    "print(result['answers'][0])"
   ]
  },
  {
   "cell_type": "markdown",
   "id": "f769ffdc-7f4d-4a60-a25f-08bfc0c4adde",
   "metadata": {},
   "source": [
    "TODO:\n",
    "\n",
    "- More formal input pipeline\n",
    "- Web scraper\n",
    "- Formalise into classes\n",
    "- Testing/playing"
   ]
  }
 ],
 "metadata": {
  "kernelspec": {
   "display_name": "Python 3 (ipykernel)",
   "language": "python",
   "name": "python3"
  },
  "language_info": {
   "codemirror_mode": {
    "name": "ipython",
    "version": 3
   },
   "file_extension": ".py",
   "mimetype": "text/x-python",
   "name": "python",
   "nbconvert_exporter": "python",
   "pygments_lexer": "ipython3",
   "version": "3.11.3"
  }
 },
 "nbformat": 4,
 "nbformat_minor": 5
}
