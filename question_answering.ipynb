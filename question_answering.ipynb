{
 "cells": [
  {
   "cell_type": "markdown",
   "id": "12822bea-c0db-4ca6-ae1c-555f0774af68",
   "metadata": {},
   "source": [
    "### Imports and pre-recs"
   ]
  },
  {
   "cell_type": "code",
   "execution_count": 180,
   "id": "99796e86-2da2-4e40-847b-8936e7945e88",
   "metadata": {},
   "outputs": [],
   "source": [
    "from haystack.nodes import AnswerParser, PromptNode, PromptTemplate, TransformersReader, BM25Retriever\n",
    "from haystack.schema import Document\n",
    "from haystack.document_stores import InMemoryDocumentStore\n",
    "from haystack.utils import convert_files_to_docs, print_answers\n",
    "from haystack import Pipeline\n",
    "\n",
    "import requests\n",
    "import time\n",
    "import os\n",
    "import re\n",
    "from pprint import pprint\n",
    "\n",
    "from bs4 import BeautifulSoup\n",
    "import mechanicalsoup"
   ]
  },
  {
   "cell_type": "markdown",
   "id": "c8e62bd7-d070-4563-aadf-0c2a237da497",
   "metadata": {
    "jp-MarkdownHeadingCollapsed": true
   },
   "source": [
    "### Test document with basic config"
   ]
  },
  {
   "cell_type": "markdown",
   "id": "6fe6c14a-9124-4357-b609-363f04abcc06",
   "metadata": {},
   "source": [
    "Testing basic [Haystack](https://haystack.deepset.ai/) default config."
   ]
  },
  {
   "cell_type": "code",
   "execution_count": 2,
   "id": "9bb345d6-50a3-4b1f-b4da-f882f21aa720",
   "metadata": {},
   "outputs": [
    {
     "name": "stdout",
     "output_type": "stream",
     "text": [
      "Every six weeks the members of THE Bank of England’s Monetary Policy Committee commute – I’d imagine from homes in Surrey (train to Waterloo then Waterloo & City Line) or Hampshire (train to Waterloo then Waterloo & City Line) or Sussex (train to Victoria then District/Circle Line to Mansion House and a short walk) – to Bank, where the BoE is situated, right next to the station. The members meet – every six weeks – to vote. To vote on what rate will be set as the Bank Rate.\n",
      "\n",
      "Required background knowledge – BoE, BR, INF:\n",
      "\n",
      "The BoE was formed in 1694 to help finance the war vs. France. Its modern purpose is to be the bank of banks (and the government). The idea is to separate the monetary from the fiscal: a government with the ability to issue debt and then basically set the interest on that debt was too much power for said government to have. The BoE would “work together” with the gov. to “manage” the economy, with the ability to keep gov. raising of money via debt issuance in check by kicking them up the arse with interest rates\n",
      "In theory. In reality, the BoE does what the gov. tells them to. It’s sort of like driving with your mate’s foot on the break and telling him when to contract his right quadricep and gastrocnemius. Why not just have your foot on the break instead? You would certainly have more control of the vehicle. But if you’re drunk or falling asleep or looking at a nice BMW overtaking you on the M3, it might be beneficial to have a second pair of eyes on the road and an external foot on the brake. That’s the idea\n",
      "The goal of the BoE – the party line – is to maintain a certain level of inflation, measured by growth in the Consumer Price Index, which is a basket of goods designed to sufficiently encapsulate the average consumer’s average consumption. Hence monitoring the change in the price of this basket will measure how much the nominal cost of living for the average person in the United Kingdom is changing\n",
      "The BoE should use the BR to maintain INF at 2% – the target set by gov. This target has always been around 2%, regardless of who is occupying No. 10 DS and where they are on the Hawk/Dove spectrum and how much Keynes vs. Hayek they read and ingested at Oxford. Straying by more than +/-1p.p from this target will result in a letter from the BoE addressed to gov. explaining the Oopsie Daisy and plans to correct it\n",
      "2% sounds like a good number, right? Congrats – you just obtained the same understanding as the MPC, George Osbourne, and this author have of why two point zero percent is a good inflation level to target. Reasons for 2%: “balances the benefits and costs of inflation”, “low and stable inflation”,  “goldilocks”, “if it ain’t broke, don’t fix it baby”, etc.\n",
      "Let’s say Andy and the gang decide to raise the BR by 0.5 percentage points/3.5%–>4.0%/fifty basis points/50 bps.\n",
      "\n",
      "Required background knowledge – retail banks:\n",
      "\n",
      "Retail banks traditionally make profit by taking deposits, paying interest on those deposits at rate X%, and doing various financial things to earn X+Y% on those deposits, making themselves a nice Y% return. Y-operating costs = profit. It’s a nice business\n",
      "To be a bank in the UK, you have to apply for a banking licence. You have to meet strict capital requirements. You have to submit to stringent auditing processes. You have to make sure you’re being fair to customers – according to the Financial Conduct Authority – and that your business plan is sound – according to the Prudential Regulation Authority. Make money but not too much. PRA slaps one cheek whilst FCA slaps the other\n",
      "Licensed banks in the UK are allowed to deposit at the BoE and receive the BR on these deposits (commercial deposits/operational balances)\n",
      "RBs deposit some of your deposits with the BoE and earn the BR% on these deposits\n",
      "RBs lend some of your money to other people in the form of loans. Personal loans and mortgages, mostly\n",
      "When the BR increases, banks receive a larger return on money deposited at the BoE:\n",
      "\n",
      "Some banks think hold on wait a second we can increase our own deposit rate and get more market share. Get more deposits. They raise their interest rates on current and/or savings accounts.\n",
      "It’s a (slow and not THAT comprehensive (most people don’t give fuck about interest rates, they just want to know their money is secure or they like the website or app or they like Deborah from the local branch outlet. Old, established banks don’t have to raise their rates)) race to the top. Rates rise across the board. The interest rate you receive on your savings probably increases.\n",
      "Banks get squeezed. X has increased but (the lending return part of) Y stays the same. They raise Y. Loans are now more expensive. They are offered at higher rates. The APR on personal loans and new mortgages increases. The i/r on VR mortgages, which have interest rates tied to the BR, increases.\n"
     ]
    }
   ],
   "source": [
    "# Read test file content\n",
    "test_file = open(\"test_article.txt\", \"r\", encoding=\"utf8\")\n",
    "test_content = test_file.read()\n",
    "print(test_content)\n",
    "test_file.close()"
   ]
  },
  {
   "cell_type": "code",
   "execution_count": 3,
   "id": "c25f433f-e15d-4b3f-ba38-e46c3edc5e51",
   "metadata": {},
   "outputs": [],
   "source": [
    "# Create test Document\n",
    "test_doc = [Document(test_content)]"
   ]
  },
  {
   "cell_type": "code",
   "execution_count": 4,
   "id": "6c6daa8b-e0bc-41cf-9784-6415b51c7300",
   "metadata": {},
   "outputs": [],
   "source": [
    "# Setting up test\n",
    "prompt_node = PromptNode()\n",
    "question_answering_per_doc = PromptTemplate(\"deepset/question-answering-per-document\", output_parser=AnswerParser())"
   ]
  },
  {
   "cell_type": "code",
   "execution_count": 5,
   "id": "57c0fd68-75a6-4bbf-8f2b-89a7816bfcab",
   "metadata": {},
   "outputs": [
    {
     "name": "stderr",
     "output_type": "stream",
     "text": [
      "Token indices sequence length is longer than the specified maximum sequence length for this model (1246 > 512). Running this sequence through the model will result in indexing errors\n",
      "The prompt has been truncated from 1246 tokens to 412 tokens so that the prompt length and answer length (100 tokens) fit within the max token limit (512 tokens). Shorten the prompt to prevent it from being cut off\n"
     ]
    }
   ],
   "source": [
    "# Generating answer from prompt\n",
    "result = prompt_node.prompt(\n",
    "    query=\"How often does the Bank of England’s Monetary Policy Committee meet?\",\n",
    "    documents=test_doc,\n",
    "    prompt_template=question_answering_per_doc\n",
    ")"
   ]
  },
  {
   "cell_type": "code",
   "execution_count": 6,
   "id": "fad17a61-f5cc-4fc2-b360-caf838f680a1",
   "metadata": {},
   "outputs": [
    {
     "name": "stdout",
     "output_type": "stream",
     "text": [
      "<Answer: answer='to separate the monetary and fiscal: a government with the ability to issue debt and then basically set the interest on that debt was too much power for said government to have', score=None, context=None>\n"
     ]
    }
   ],
   "source": [
    "# Printing result\n",
    "print(result[0])"
   ]
  },
  {
   "cell_type": "markdown",
   "id": "9380981f-2e08-4f57-aa90-98a2db7184d2",
   "metadata": {},
   "source": [
    "Fuck me that took a long time."
   ]
  },
  {
   "cell_type": "markdown",
   "id": "f01320a2-bab8-46fa-94ef-236d93a93f2f",
   "metadata": {
    "jp-MarkdownHeadingCollapsed": true
   },
   "source": [
    "### Adding custom model"
   ]
  },
  {
   "cell_type": "markdown",
   "id": "8d359ed2-e29c-4c43-8748-0d43a920abbd",
   "metadata": {},
   "source": [
    "Try with [tinyroberta-squad2](https://huggingface.co/deepset/tinyroberta-squad2) QA model to see what we get."
   ]
  },
  {
   "cell_type": "code",
   "execution_count": 7,
   "id": "47cfba98-1b78-40ee-80f8-d21024bd5fd1",
   "metadata": {},
   "outputs": [],
   "source": [
    "HF_MODEL_NAME = 'deepset/tinyroberta-squad2' \n",
    "\n",
    "reader = TransformersReader(\n",
    "    model_name_or_path=HF_MODEL_NAME,\n",
    "    tokenizer=HF_MODEL_NAME,\n",
    "    use_gpu=-1\n",
    ")"
   ]
  },
  {
   "cell_type": "code",
   "execution_count": 8,
   "id": "35c25f36-888e-4d4f-afe3-81a6f201dbf8",
   "metadata": {},
   "outputs": [],
   "source": [
    "result = reader.predict(\n",
    "    query=\"How often does the Bank of England’s Monetary Policy Committee meet?\",\n",
    "    documents=test_doc,\n",
    "    top_k=10\n",
    ")"
   ]
  },
  {
   "cell_type": "code",
   "execution_count": 9,
   "id": "6daea51e-5cf4-494b-88ec-17aef7e17491",
   "metadata": {},
   "outputs": [
    {
     "name": "stdout",
     "output_type": "stream",
     "text": [
      "<Answer: answer='Every six weeks', score=0.7901942729949951, context='Every six weeks the members of THE Bank of England...'>\n"
     ]
    }
   ],
   "source": [
    "# Printing result\n",
    "print(result['answers'][0])"
   ]
  },
  {
   "cell_type": "markdown",
   "id": "61a83177-a9b2-45bd-a145-474ec510848c",
   "metadata": {
    "jp-MarkdownHeadingCollapsed": true
   },
   "source": [
    "### Multiple documents"
   ]
  },
  {
   "cell_type": "code",
   "execution_count": 10,
   "id": "b82d3e6f-240f-4e06-8e55-228690ee41d1",
   "metadata": {},
   "outputs": [],
   "source": [
    "# Change to docuemnt store template\n",
    "question_anwering_with_scores = PromptTemplate(\"deepset/question-answering-with-document-scores\")"
   ]
  },
  {
   "cell_type": "code",
   "execution_count": 158,
   "id": "ce9c53f2-5324-4aee-a646-521ba775a87d",
   "metadata": {},
   "outputs": [],
   "source": [
    "# Document store from memory\n",
    "document_store = InMemoryDocumentStore(use_bm25=True)"
   ]
  },
  {
   "cell_type": "code",
   "execution_count": 12,
   "id": "f7b63cc2-c2d4-44e8-be5c-1ff8f9b5fe71",
   "metadata": {},
   "outputs": [
    {
     "name": "stderr",
     "output_type": "stream",
     "text": [
      "Updating BM25 representation...: 100%|████████████████████████████████████████████████████████████████████████████████████| 2/2 [00:00<?, ? docs/s]\n"
     ]
    }
   ],
   "source": [
    "# Load docs into doc store\n",
    "docs = convert_files_to_docs('ArticleStore')\n",
    "document_store.write_documents(docs)"
   ]
  },
  {
   "cell_type": "code",
   "execution_count": 13,
   "id": "4470b449-e277-4552-8154-e7cf33994cee",
   "metadata": {},
   "outputs": [
    {
     "name": "stdout",
     "output_type": "stream",
     "text": [
      "<Answer: answer='1694', score=0.9720327854156494, context='The BoE was formed in 1694 to help finance the war...'>\n"
     ]
    }
   ],
   "source": [
    "# Test documents loaded\n",
    "result = reader.predict(\n",
    "    query=\"When was the BoE formed?\",\n",
    "    documents=document_store,\n",
    "    top_k=10\n",
    ")\n",
    "print(result['answers'][0])"
   ]
  },
  {
   "cell_type": "markdown",
   "id": "910c30f3-ec9f-4fef-ac24-1eda3d4e4e6a",
   "metadata": {
    "jp-MarkdownHeadingCollapsed": true
   },
   "source": [
    "### Simple pipeline"
   ]
  },
  {
   "cell_type": "code",
   "execution_count": 14,
   "id": "dbdeeb47-49b4-42a2-ad32-8d77c098face",
   "metadata": {},
   "outputs": [],
   "source": [
    "# Create retriever and prompt_node\n",
    "retriever = BM25Retriever(document_store)\n",
    "reader = TransformersReader(\n",
    "    model_name_or_path=HF_MODEL_NAME,\n",
    "    tokenizer=HF_MODEL_NAME,\n",
    "    use_gpu=-1\n",
    ")"
   ]
  },
  {
   "cell_type": "code",
   "execution_count": 15,
   "id": "246ab334-0a1a-4842-89e4-7350ab46d11f",
   "metadata": {},
   "outputs": [],
   "source": [
    "# Create basic pipeline\n",
    "p = Pipeline()\n",
    "p.add_node(component=retriever, name=\"Retriever\", inputs=[\"Query\"])\n",
    "p.add_node(component=reader, name=\"Reader\", inputs=[\"Retriever\"])"
   ]
  },
  {
   "cell_type": "code",
   "execution_count": 16,
   "id": "1b7db20d-9aab-4b8a-8b16-434b5e6923c5",
   "metadata": {},
   "outputs": [],
   "source": [
    "# Test the pipeline\n",
    "result = p.run(query=\"When was the BoE formed?\")"
   ]
  },
  {
   "cell_type": "code",
   "execution_count": 17,
   "id": "ebc87df6-4a1d-461c-908c-fa851b070673",
   "metadata": {},
   "outputs": [
    {
     "name": "stdout",
     "output_type": "stream",
     "text": [
      "<Answer: answer='1694', score=0.9720327854156494, context='The BoE was formed in 1694 to help finance the war...'>\n"
     ]
    }
   ],
   "source": [
    "print(result['answers'][0])"
   ]
  },
  {
   "cell_type": "markdown",
   "id": "843f2fa2-f75e-4e3d-a3d5-8c3104369fdc",
   "metadata": {
    "jp-MarkdownHeadingCollapsed": true
   },
   "source": [
    "### Scraping blog posts"
   ]
  },
  {
   "cell_type": "markdown",
   "id": "62c9953a-ea06-436d-bf0d-f2d9f3cd333a",
   "metadata": {},
   "source": [
    "Use mechanical soup to navigate thropugh the blog post pages, and extract that text from each page using beautiful soup."
   ]
  },
  {
   "cell_type": "code",
   "execution_count": 155,
   "id": "1514f728-b9fb-4606-9b4a-349bcf7a3723",
   "metadata": {},
   "outputs": [],
   "source": [
    "# Create a class to scrape text from blog posts\n",
    "class BlogArticleScraper:\n",
    "    \"\"\"\n",
    "    A class to scrape article text from a blog and save to separate text files.\n",
    "\n",
    "    Methods:\n",
    "        scrape_post_urls: Run through post pages to collect post titles and urls\n",
    "        save_blog_text: Extract text from dict of blog post urls and save in dir\n",
    "        read_and_save_blogs: Read all blog posts and save the text\n",
    "    \"\"\"\n",
    "    \n",
    "    def __init__(self, blog_posts_url, dest_dir):\n",
    "        self.blog_posts_url = blog_posts_url\n",
    "        self.dest_dir = dest_dir\n",
    "\n",
    "        self.headers = {  # Fake headers to get around bot detection\n",
    "            'User-Agent': 'Mozilla/5.0 (Windows NT 10.0; Win64; x64) AppleWebKit/537.36 (KHTML, like Gecko) Chrome/91.0.4472.124 Safari/537.36'\n",
    "        }\n",
    "\n",
    "    def scrape_post_urls(self) -> dict:\n",
    "        \"\"\"Run through post pages to collect post titles and urls\"\"\"\n",
    "        blog_urls_dict = {}  # Empty dict for storing blog post urls\n",
    "        page_num = 1  # Start at page number 1\n",
    "        while True:\n",
    "            # Get blog post links for that page\n",
    "            page_url = f'{self.blog_posts_url}/page/{page_num}'\n",
    "            response = requests.get(page_url, headers=headers)\n",
    "            raw_posts_soup = BeautifulSoup(response.content, 'html.parser')\n",
    "            post_links = raw_posts_soup.select('.entry-title')\n",
    "            # Check if page contains blog posts\n",
    "            if post_links == []:\n",
    "                break\n",
    "            # Add title and link to blog url dict\n",
    "            for link in post_links:\n",
    "                blog_urls_dict[link.select_one('a')['title']] = link.select_one('a')['href']\n",
    "            # Add one to page number to look for links\n",
    "            page_num += 1\n",
    "            # Add a delay before accessing the next URL\n",
    "            time.sleep(2)\n",
    "        # Return blog url dict\n",
    "        return blog_urls_dict\n",
    "\n",
    "    def save_blog_text(self, blog_title: str, blog_post_url: str, output_dir: str):\n",
    "        \"\"\"Extract text from a blog post and save in dir\"\"\"\n",
    "        # Acces blog post\n",
    "        response = requests.get(blog_post_url, headers=self.headers)\n",
    "        raw_blog_soup = BeautifulSoup(response.content, 'html.parser')\n",
    "        # Edit blog title\n",
    "        no_special_char_title = re.sub(r'[^\\w\\s]', '', blog_title)\n",
    "        no_space_title = no_special_char_title.replace(\" \", \"_\") + '.txt'\n",
    "        # Save text output\n",
    "        with open(os.path.join(output_dir, no_space_title), 'w', encoding='utf-8') as file:\n",
    "            file.write(raw_blog_soup.select_one('.entry-content').text)\n",
    "\n",
    "    def read_and_save_blogs(self):\n",
    "        \"\"\"Read all blog posts and save the text\"\"\"\n",
    "        for key, value in self.scrape_post_urls().items():\n",
    "            self.save_blog_text(key, value, self.dest_dir)"
   ]
  },
  {
   "cell_type": "code",
   "execution_count": 156,
   "id": "6142467c-ec5d-4dfd-a222-1b9296669490",
   "metadata": {},
   "outputs": [],
   "source": [
    "# Use the class to scrape blog posts from my blog\n",
    "BlogArticleScraper(blog_posts_url='https://www.perpetualprudence.com/blog',\n",
    "                   dest_dir='ArticleStore').read_and_save_blogs()"
   ]
  },
  {
   "cell_type": "markdown",
   "id": "707b34fc-c32f-4186-bdc1-bcc9e00e342d",
   "metadata": {
    "jp-MarkdownHeadingCollapsed": true
   },
   "source": [
    "### Getting answers from all documents"
   ]
  },
  {
   "cell_type": "markdown",
   "id": "166d8c0e-7d37-4028-9c6f-51037cfda371",
   "metadata": {},
   "source": [
    "Let's just re-run all commands up to here to make it easy."
   ]
  },
  {
   "cell_type": "code",
   "execution_count": null,
   "id": "d575c983-6fbd-4dd9-ae3e-f370038060fc",
   "metadata": {},
   "outputs": [],
   "source": [
    "# Use the class to scrape blog posts from my blog\n",
    "BlogArticleScraper(blog_posts_url='https://www.perpetualprudence.com/blog',\n",
    "                   dest_dir='ArticleStore').read_and_save_blogs()"
   ]
  },
  {
   "cell_type": "code",
   "execution_count": 159,
   "id": "6db177fe-885b-4e09-b366-29e323566f9e",
   "metadata": {},
   "outputs": [
    {
     "name": "stderr",
     "output_type": "stream",
     "text": [
      "Updating BM25 representation...: 100%|████████████████████████████████████████████████████████████████████████| 62/62 [00:00<00:00, 1501.21 docs/s]\n"
     ]
    }
   ],
   "source": [
    "# Create a document store and add documents\n",
    "question_anwering_with_scores = PromptTemplate(\"deepset/question-answering-with-document-scores\")\n",
    "document_store = InMemoryDocumentStore(use_bm25=True)\n",
    "docs = convert_files_to_docs('ArticleStore')\n",
    "document_store.write_documents(docs)"
   ]
  },
  {
   "cell_type": "code",
   "execution_count": 160,
   "id": "ee5ecc04-ad5d-4423-a91f-28ead0370ff1",
   "metadata": {},
   "outputs": [],
   "source": [
    "# Define the model to use for QA\n",
    "HF_MODEL_NAME = 'deepset/tinyroberta-squad2' "
   ]
  },
  {
   "cell_type": "code",
   "execution_count": 161,
   "id": "59aba746-6ec8-4a30-b0f9-5d050beba0d1",
   "metadata": {},
   "outputs": [],
   "source": [
    "# Define reader and receiver to be used in the pipeline\n",
    "retriever = BM25Retriever(document_store)\n",
    "reader = TransformersReader(\n",
    "    model_name_or_path=HF_MODEL_NAME,\n",
    "    tokenizer=HF_MODEL_NAME,\n",
    "    use_gpu=-1\n",
    ")"
   ]
  },
  {
   "cell_type": "code",
   "execution_count": 162,
   "id": "cf0af199-01ec-4a89-a80c-44beab58b522",
   "metadata": {},
   "outputs": [],
   "source": [
    "# Create pipeline\n",
    "pp_qa_pipe = Pipeline()\n",
    "pp_qa_pipe.add_node(component=retriever, name=\"Retriever\", inputs=[\"Query\"])\n",
    "pp_qa_pipe.add_node(component=reader, name=\"Reader\", inputs=[\"Retriever\"])"
   ]
  },
  {
   "cell_type": "code",
   "execution_count": 191,
   "id": "c843f934-6274-4bd0-8055-35e598cdc795",
   "metadata": {},
   "outputs": [
    {
     "data": {
      "text/plain": [
       "'1694'"
      ]
     },
     "execution_count": 191,
     "metadata": {},
     "output_type": "execute_result"
    }
   ],
   "source": [
    "# Test question one - easy\n",
    "pp_qa_pipe.run(\n",
    "    \"When was the BoE founded?\"\n",
    ")['answers'][0].answer"
   ]
  },
  {
   "cell_type": "code",
   "execution_count": 192,
   "id": "5c02bf9d-323a-4dad-87cf-276265ebe28b",
   "metadata": {},
   "outputs": [
    {
     "data": {
      "text/plain": [
       "'Itâ€™s a myth'"
      ]
     },
     "execution_count": 192,
     "metadata": {},
     "output_type": "execute_result"
    }
   ],
   "source": [
    "# Test question two - medium\n",
    "pp_qa_pipe.run(\n",
    "    \"Is using active management a good idea?\"\n",
    ")['answers'][0].answer"
   ]
  },
  {
   "cell_type": "code",
   "execution_count": 193,
   "id": "dbfc2eb5-2cff-4460-8707-a350eb69937c",
   "metadata": {},
   "outputs": [
    {
     "data": {
      "text/plain": [
       "'If you know you definitely want to buy a house as soon as possible'"
      ]
     },
     "execution_count": 193,
     "metadata": {},
     "output_type": "execute_result"
    }
   ],
   "source": [
    "# Test question three - hard\n",
    "pp_qa_pipe.run(\n",
    "    \"Should I buy a house?\"\n",
    ")['answers'][0].answer"
   ]
  },
  {
   "cell_type": "markdown",
   "id": "cb9ef549-5ace-457b-937b-f179d17ee959",
   "metadata": {},
   "source": [
    "### Changing the model to generative"
   ]
  },
  {
   "cell_type": "markdown",
   "id": "42c59013-7a4d-4ebb-94a6-9a55acc36c50",
   "metadata": {},
   "source": [
    "These responses are not very good...what we really want is some context/fluff around them. For this we must introduce a generative component.\n",
    "\n",
    "https://haystack.deepset.ai/tutorials/07_rag_generator"
   ]
  }
 ],
 "metadata": {
  "kernelspec": {
   "display_name": "Python 3 (ipykernel)",
   "language": "python",
   "name": "python3"
  },
  "language_info": {
   "codemirror_mode": {
    "name": "ipython",
    "version": 3
   },
   "file_extension": ".py",
   "mimetype": "text/x-python",
   "name": "python",
   "nbconvert_exporter": "python",
   "pygments_lexer": "ipython3",
   "version": "3.11.3"
  }
 },
 "nbformat": 4,
 "nbformat_minor": 5
}
